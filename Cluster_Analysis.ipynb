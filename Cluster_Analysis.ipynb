{
 "cells": [
  {
   "cell_type": "markdown",
   "metadata": {},
   "source": [
    "\n",
    "In this project, we would focus on combining RFM (Recency Frequency Monetary) Analysis with Clustering analysis to to identify different market segments .  All of the graphs and code can be found in the MBAN GitHub repository, feel free to download it and modify the numbers for your use case.\n",
    "\n",
    "The Jupyter notebook can be opened in the executable environment binder.\n",
    "\n",
    "\n",
    "# Business Problem \n",
    "-------\n",
    "\n",
    "Customer Analytics is important to run a successful business. Sales and marketing resources are finite and expensive, therefore it is important to answer these questions when developing a marketing strategy.\n",
    "\n",
    "* Who are our most/least valuable customers?\n",
    "* How can we acquire new customers that resemble our most valuable?\n",
    "\n",
    "The project on [RFM analysis](https://master-of-business-analytics.github.io/Website/RFM_Analysis.html) provided a basic model that allows the business to segment its customers based on three criteria based on an existing customer’s transaction history; recency of Customer's Last purchase, frequency of purchases and total amount spent, which is referred to as monetary.\n",
    "However this analysis approaches this problem with the 2 steps approach mentioned below:\n",
    "\n",
    "1. Data is extracted to RFM model and then clustering based on RFM principle.\n",
    "2. Clustering using k-Means algorithm."
   ]
  },
  {
   "cell_type": "markdown",
   "metadata": {},
   "source": [
    "## Data Set\n",
    "\n",
    "There are  eight variables in the data set:\n",
    "\n",
    "1. InvoiceNo: Invoice number,  A 6-digit integral number uniquely assigned to each transaction.\n",
    "2. StockCode: Product code, a 5-digit integral number uniquely assigned to each distinct product.\n",
    "3. Description: Product name\n",
    "4. Quantity: The quantities of each product (item) per transaction.\n",
    "5. InvoiceDate: Invoice Date and time. Numeric, the day and time when each transaction was generated.\n",
    "6. UnitPrice: Unit price. Numeric, Product price per unit in sterling.\n",
    "7. CustomerID: Customer number, a 5-digit integral number uniquely assigned to each customer.\n",
    "8. Country "
   ]
  },
  {
   "cell_type": "code",
   "execution_count": 1,
   "metadata": {},
   "outputs": [],
   "source": [
    "import pandas as pd\n",
    "import numpy as np\n",
    "import seaborn as sns\n",
    "from datetime import timedelta\n",
    "import numpy as np\n",
    "import matplotlib.pyplot as plt\n",
    "import warnings\n",
    "from sklearn.cluster import KMeans\n",
    "#ignore warnings\n",
    "warnings.filterwarnings('ignore')\n",
    "\n",
    "pd.set_option(\"display.max_columns\",None);\n",
    "pd.set_option(\"display.max_rows\",None);\n",
    "\n",
    "#load data\n",
    "url = 'https://raw.githubusercontent.com/Master-of-Business-Analytics/Project_06_RFM_Analysis/master/data.csv'\n",
    "df = pd.read_csv(url, error_bad_lines=False,encoding= 'unicode_escape')\n",
    "\n",
    "\n"
   ]
  },
  {
   "cell_type": "code",
   "execution_count": 2,
   "metadata": {},
   "outputs": [
    {
     "data": {
      "text/html": [
       "<div>\n",
       "<style scoped>\n",
       "    .dataframe tbody tr th:only-of-type {\n",
       "        vertical-align: middle;\n",
       "    }\n",
       "\n",
       "    .dataframe tbody tr th {\n",
       "        vertical-align: top;\n",
       "    }\n",
       "\n",
       "    .dataframe thead th {\n",
       "        text-align: right;\n",
       "    }\n",
       "</style>\n",
       "<table border=\"1\" class=\"dataframe\">\n",
       "  <thead>\n",
       "    <tr style=\"text-align: right;\">\n",
       "      <th></th>\n",
       "      <th>InvoiceNo</th>\n",
       "      <th>StockCode</th>\n",
       "      <th>Description</th>\n",
       "      <th>Quantity</th>\n",
       "      <th>InvoiceDate</th>\n",
       "      <th>UnitPrice</th>\n",
       "      <th>CustomerID</th>\n",
       "      <th>Country</th>\n",
       "    </tr>\n",
       "  </thead>\n",
       "  <tbody>\n",
       "    <tr>\n",
       "      <th>0</th>\n",
       "      <td>540558</td>\n",
       "      <td>21258</td>\n",
       "      <td>?</td>\n",
       "      <td>-29</td>\n",
       "      <td>1/10/2011 10:04</td>\n",
       "      <td>0.00</td>\n",
       "      <td>NaN</td>\n",
       "      <td>United Kingdom</td>\n",
       "    </tr>\n",
       "    <tr>\n",
       "      <th>1</th>\n",
       "      <td>540560</td>\n",
       "      <td>21589</td>\n",
       "      <td>NaN</td>\n",
       "      <td>-14</td>\n",
       "      <td>1/10/2011 10:08</td>\n",
       "      <td>0.00</td>\n",
       "      <td>NaN</td>\n",
       "      <td>United Kingdom</td>\n",
       "    </tr>\n",
       "    <tr>\n",
       "      <th>2</th>\n",
       "      <td>540561</td>\n",
       "      <td>22343</td>\n",
       "      <td>PARTY PIZZA DISH RED RETROSPOT</td>\n",
       "      <td>24</td>\n",
       "      <td>1/10/2011 10:32</td>\n",
       "      <td>0.21</td>\n",
       "      <td>13004.0</td>\n",
       "      <td>United Kingdom</td>\n",
       "    </tr>\n",
       "    <tr>\n",
       "      <th>3</th>\n",
       "      <td>540561</td>\n",
       "      <td>22344</td>\n",
       "      <td>PARTY PIZZA DISH PINK POLKADOT</td>\n",
       "      <td>24</td>\n",
       "      <td>1/10/2011 10:32</td>\n",
       "      <td>0.21</td>\n",
       "      <td>13004.0</td>\n",
       "      <td>United Kingdom</td>\n",
       "    </tr>\n",
       "    <tr>\n",
       "      <th>4</th>\n",
       "      <td>540561</td>\n",
       "      <td>47504H</td>\n",
       "      <td>ENGLISH ROSE SPIRIT LEVEL</td>\n",
       "      <td>24</td>\n",
       "      <td>1/10/2011 10:32</td>\n",
       "      <td>0.85</td>\n",
       "      <td>13004.0</td>\n",
       "      <td>United Kingdom</td>\n",
       "    </tr>\n",
       "  </tbody>\n",
       "</table>\n",
       "</div>"
      ],
      "text/plain": [
       "  InvoiceNo StockCode                     Description  Quantity  \\\n",
       "0    540558     21258                               ?       -29   \n",
       "1    540560     21589                             NaN       -14   \n",
       "2    540561     22343  PARTY PIZZA DISH RED RETROSPOT        24   \n",
       "3    540561     22344  PARTY PIZZA DISH PINK POLKADOT        24   \n",
       "4    540561    47504H      ENGLISH ROSE SPIRIT LEVEL         24   \n",
       "\n",
       "       InvoiceDate  UnitPrice  CustomerID         Country  \n",
       "0  1/10/2011 10:04       0.00         NaN  United Kingdom  \n",
       "1  1/10/2011 10:08       0.00         NaN  United Kingdom  \n",
       "2  1/10/2011 10:32       0.21     13004.0  United Kingdom  \n",
       "3  1/10/2011 10:32       0.21     13004.0  United Kingdom  \n",
       "4  1/10/2011 10:32       0.85     13004.0  United Kingdom  "
      ]
     },
     "execution_count": 2,
     "metadata": {},
     "output_type": "execute_result"
    }
   ],
   "source": [
    "#summary of dataset\n",
    "df.head(5)"
   ]
  },
  {
   "cell_type": "markdown",
   "metadata": {},
   "source": [
    "# Data cleaning \n",
    "\n",
    "The dataset seemed relatively clean at first glance, but it was actually riddled with errors. There were quite a number of these positive/negative offsetting entries throughout the dataset, plus other apparent errors such as customers with negative transactions. More information on data cleaning can be found on the [data cleaning project](https://master-of-business-analytics.github.io/Website/Data_Cleaning.html).\n",
    "\n",
    "The first step in cleaning the dataset is to check if there are any missing values and where the missing values are located."
   ]
  },
  {
   "cell_type": "code",
   "execution_count": 202,
   "metadata": {},
   "outputs": [
    {
     "data": {
      "text/plain": [
       "<matplotlib.axes._subplots.AxesSubplot at 0x1a408868d0>"
      ]
     },
     "execution_count": 202,
     "metadata": {},
     "output_type": "execute_result"
    },
    {
     "data": {
      "image/png": "[encoded data removed]",
      "text/plain": [
       "<Figure size 432x288 with 1 Axes>"
      ]
     },
     "metadata": {
      "needs_background": "light"
     },
     "output_type": "display_data"
    }
   ],
   "source": [
    "\n",
    "#Visualize the number of null values in the dataframe for each column\n",
    "df.isnull().sum().plot(kind='bar')"
   ]
  },
  {
   "cell_type": "markdown",
   "metadata": {},
   "source": [
    "The bar chart above shows that NaN values are located at the description and customer ID column. The purpose of this evaluating is current customer segmentation therefore transactions without customer ID does not provide any value and are dropped from the data frame below.  "
   ]
  },
  {
   "cell_type": "code",
   "execution_count": 3,
   "metadata": {},
   "outputs": [
    {
     "data": {
      "text/plain": [
       "InvoiceNo      0\n",
       "StockCode      0\n",
       "Description    0\n",
       "Quantity       0\n",
       "InvoiceDate    0\n",
       "UnitPrice      0\n",
       "CustomerID     0\n",
       "Country        0\n",
       "dtype: int64"
      ]
     },
     "execution_count": 3,
     "metadata": {},
     "output_type": "execute_result"
    }
   ],
   "source": [
    "#Eliminating rows with NA\n",
    "#df=df[df.notnull().all(axis=1)] \n",
    "df=df.dropna(subset=['CustomerID'])\n",
    "#NA stutus accross columns\n",
    "df.isnull().sum()"
   ]
  },
  {
   "cell_type": "markdown",
   "metadata": {},
   "source": [
    "The summary table shows that very low negative values under the quantity values. Further analysis show that the minimum and maximum values have the same absolute values. This could be as a result of a mistake in data entry. There are two ways data input error is usually corrected; entering a value with the opposite sign to nullify the previous mistake or entering the difference between actual actual transaction and previous entry. \n",
    "\n",
    "The first instance corrected by:\n",
    "1. Confirming that both transactions are for one customer and drop the rows if true. \n",
    "2. Repeating the previous step until the the minimum and maximum quantity values do not have the same absolute values."
   ]
  },
  {
   "cell_type": "code",
   "execution_count": 4,
   "metadata": {},
   "outputs": [
    {
     "data": {
      "text/html": [
       "<div>\n",
       "<style scoped>\n",
       "    .dataframe tbody tr th:only-of-type {\n",
       "        vertical-align: middle;\n",
       "    }\n",
       "\n",
       "    .dataframe tbody tr th {\n",
       "        vertical-align: top;\n",
       "    }\n",
       "\n",
       "    .dataframe thead th {\n",
       "        text-align: right;\n",
       "    }\n",
       "</style>\n",
       "<table border=\"1\" class=\"dataframe\">\n",
       "  <thead>\n",
       "    <tr style=\"text-align: right;\">\n",
       "      <th></th>\n",
       "      <th>InvoiceDate</th>\n",
       "      <th>CustomerID</th>\n",
       "      <th>StockCode</th>\n",
       "      <th>UnitPrice</th>\n",
       "      <th>Quantity</th>\n",
       "    </tr>\n",
       "  </thead>\n",
       "  <tbody>\n",
       "    <tr>\n",
       "      <th>2</th>\n",
       "      <td>1/10/2011 10:32</td>\n",
       "      <td>13004.0</td>\n",
       "      <td>22343</td>\n",
       "      <td>0.21</td>\n",
       "      <td>24</td>\n",
       "    </tr>\n",
       "    <tr>\n",
       "      <th>3</th>\n",
       "      <td>1/10/2011 10:32</td>\n",
       "      <td>13004.0</td>\n",
       "      <td>22344</td>\n",
       "      <td>0.21</td>\n",
       "      <td>24</td>\n",
       "    </tr>\n",
       "    <tr>\n",
       "      <th>4</th>\n",
       "      <td>1/10/2011 10:32</td>\n",
       "      <td>13004.0</td>\n",
       "      <td>47504H</td>\n",
       "      <td>0.85</td>\n",
       "      <td>24</td>\n",
       "    </tr>\n",
       "    <tr>\n",
       "      <th>5</th>\n",
       "      <td>1/10/2011 10:32</td>\n",
       "      <td>13004.0</td>\n",
       "      <td>84509G</td>\n",
       "      <td>1.25</td>\n",
       "      <td>12</td>\n",
       "    </tr>\n",
       "    <tr>\n",
       "      <th>6</th>\n",
       "      <td>1/10/2011 10:32</td>\n",
       "      <td>13004.0</td>\n",
       "      <td>22720</td>\n",
       "      <td>4.95</td>\n",
       "      <td>3</td>\n",
       "    </tr>\n",
       "  </tbody>\n",
       "</table>\n",
       "</div>"
      ],
      "text/plain": [
       "       InvoiceDate  CustomerID StockCode  UnitPrice  Quantity\n",
       "2  1/10/2011 10:32     13004.0     22343       0.21        24\n",
       "3  1/10/2011 10:32     13004.0     22344       0.21        24\n",
       "4  1/10/2011 10:32     13004.0    47504H       0.85        24\n",
       "5  1/10/2011 10:32     13004.0    84509G       1.25        12\n",
       "6  1/10/2011 10:32     13004.0     22720       4.95         3"
      ]
     },
     "execution_count": 4,
     "metadata": {},
     "output_type": "execute_result"
    }
   ],
   "source": [
    "#selecting relevant columns\n",
    "df2 = df[['InvoiceDate',\"CustomerID\",'StockCode','UnitPrice','Quantity']]\n",
    "#snapshoot of new dataframe\n",
    "df2.head()"
   ]
  },
  {
   "cell_type": "code",
   "execution_count": 5,
   "metadata": {},
   "outputs": [
    {
     "data": {
      "text/html": [
       "<div>\n",
       "<style scoped>\n",
       "    .dataframe tbody tr th:only-of-type {\n",
       "        vertical-align: middle;\n",
       "    }\n",
       "\n",
       "    .dataframe tbody tr th {\n",
       "        vertical-align: top;\n",
       "    }\n",
       "\n",
       "    .dataframe thead th {\n",
       "        text-align: right;\n",
       "    }\n",
       "</style>\n",
       "<table border=\"1\" class=\"dataframe\">\n",
       "  <thead>\n",
       "    <tr style=\"text-align: right;\">\n",
       "      <th></th>\n",
       "      <th>InvoiceDate</th>\n",
       "      <th>CustomerID</th>\n",
       "      <th>StockCode</th>\n",
       "      <th>UnitPrice</th>\n",
       "      <th>Quantity</th>\n",
       "    </tr>\n",
       "  </thead>\n",
       "  <tbody>\n",
       "    <tr>\n",
       "      <th>188958</th>\n",
       "      <td>12/9/2011 9:15</td>\n",
       "      <td>16446.0</td>\n",
       "      <td>23843</td>\n",
       "      <td>2.08</td>\n",
       "      <td>80995</td>\n",
       "    </tr>\n",
       "    <tr>\n",
       "      <th>188959</th>\n",
       "      <td>12/9/2011 9:27</td>\n",
       "      <td>16446.0</td>\n",
       "      <td>23843</td>\n",
       "      <td>2.08</td>\n",
       "      <td>-80995</td>\n",
       "    </tr>\n",
       "  </tbody>\n",
       "</table>\n",
       "</div>"
      ],
      "text/plain": [
       "           InvoiceDate  CustomerID StockCode  UnitPrice  Quantity\n",
       "188958  12/9/2011 9:15     16446.0     23843       2.08     80995\n",
       "188959  12/9/2011 9:27     16446.0     23843       2.08    -80995"
      ]
     },
     "execution_count": 5,
     "metadata": {},
     "output_type": "execute_result"
    }
   ],
   "source": [
    "#row data of maximum and minimum data\n",
    "df2.loc[[df2['Quantity'].idxmax(),df['Quantity'].idxmin()]]"
   ]
  },
  {
   "cell_type": "code",
   "execution_count": 6,
   "metadata": {},
   "outputs": [
    {
     "data": {
      "text/html": [
       "<div>\n",
       "<style scoped>\n",
       "    .dataframe tbody tr th:only-of-type {\n",
       "        vertical-align: middle;\n",
       "    }\n",
       "\n",
       "    .dataframe tbody tr th {\n",
       "        vertical-align: top;\n",
       "    }\n",
       "\n",
       "    .dataframe thead th {\n",
       "        text-align: right;\n",
       "    }\n",
       "</style>\n",
       "<table border=\"1\" class=\"dataframe\">\n",
       "  <thead>\n",
       "    <tr style=\"text-align: right;\">\n",
       "      <th></th>\n",
       "      <th>CustomerID</th>\n",
       "      <th>UnitPrice</th>\n",
       "      <th>Quantity</th>\n",
       "    </tr>\n",
       "  </thead>\n",
       "  <tbody>\n",
       "    <tr>\n",
       "      <th>count</th>\n",
       "      <td>214537.000000</td>\n",
       "      <td>214537.000000</td>\n",
       "      <td>214537.000000</td>\n",
       "    </tr>\n",
       "    <tr>\n",
       "      <th>mean</th>\n",
       "      <td>15528.114199</td>\n",
       "      <td>3.048388</td>\n",
       "      <td>10.561642</td>\n",
       "    </tr>\n",
       "    <tr>\n",
       "      <th>std</th>\n",
       "      <td>1592.765139</td>\n",
       "      <td>14.165101</td>\n",
       "      <td>232.168351</td>\n",
       "    </tr>\n",
       "    <tr>\n",
       "      <th>min</th>\n",
       "      <td>12346.000000</td>\n",
       "      <td>0.000000</td>\n",
       "      <td>-74215.000000</td>\n",
       "    </tr>\n",
       "    <tr>\n",
       "      <th>25%</th>\n",
       "      <td>14159.000000</td>\n",
       "      <td>1.250000</td>\n",
       "      <td>2.000000</td>\n",
       "    </tr>\n",
       "    <tr>\n",
       "      <th>50%</th>\n",
       "      <td>15493.000000</td>\n",
       "      <td>1.950000</td>\n",
       "      <td>4.000000</td>\n",
       "    </tr>\n",
       "    <tr>\n",
       "      <th>75%</th>\n",
       "      <td>16923.000000</td>\n",
       "      <td>3.750000</td>\n",
       "      <td>12.000000</td>\n",
       "    </tr>\n",
       "    <tr>\n",
       "      <th>max</th>\n",
       "      <td>18287.000000</td>\n",
       "      <td>3155.950000</td>\n",
       "      <td>74215.000000</td>\n",
       "    </tr>\n",
       "  </tbody>\n",
       "</table>\n",
       "</div>"
      ],
      "text/plain": [
       "          CustomerID      UnitPrice       Quantity\n",
       "count  214537.000000  214537.000000  214537.000000\n",
       "mean    15528.114199       3.048388      10.561642\n",
       "std      1592.765139      14.165101     232.168351\n",
       "min     12346.000000       0.000000  -74215.000000\n",
       "25%     14159.000000       1.250000       2.000000\n",
       "50%     15493.000000       1.950000       4.000000\n",
       "75%     16923.000000       3.750000      12.000000\n",
       "max     18287.000000    3155.950000   74215.000000"
      ]
     },
     "execution_count": 6,
     "metadata": {},
     "output_type": "execute_result"
    }
   ],
   "source": [
    "#remove containing row minimum and maximum quantity as it is basically a duplicate\n",
    "df2.drop(index=[df2['Quantity'].idxmax(), df2['Quantity'].idxmin()], inplace=True)\n",
    "\n",
    "#chack minimum and maximum quantity \n",
    "df2.describe()"
   ]
  },
  {
   "cell_type": "markdown",
   "metadata": {},
   "source": [
    "<b> Repeat Process </b>"
   ]
  },
  {
   "cell_type": "code",
   "execution_count": 7,
   "metadata": {},
   "outputs": [
    {
     "data": {
      "text/html": [
       "<div>\n",
       "<style scoped>\n",
       "    .dataframe tbody tr th:only-of-type {\n",
       "        vertical-align: middle;\n",
       "    }\n",
       "\n",
       "    .dataframe tbody tr th {\n",
       "        vertical-align: top;\n",
       "    }\n",
       "\n",
       "    .dataframe thead th {\n",
       "        text-align: right;\n",
       "    }\n",
       "</style>\n",
       "<table border=\"1\" class=\"dataframe\">\n",
       "  <thead>\n",
       "    <tr style=\"text-align: right;\">\n",
       "      <th></th>\n",
       "      <th>InvoiceDate</th>\n",
       "      <th>CustomerID</th>\n",
       "      <th>StockCode</th>\n",
       "      <th>UnitPrice</th>\n",
       "      <th>Quantity</th>\n",
       "    </tr>\n",
       "  </thead>\n",
       "  <tbody>\n",
       "    <tr>\n",
       "      <th>10537</th>\n",
       "      <td>1/18/2011 10:01</td>\n",
       "      <td>12346.0</td>\n",
       "      <td>23166</td>\n",
       "      <td>1.04</td>\n",
       "      <td>74215</td>\n",
       "    </tr>\n",
       "    <tr>\n",
       "      <th>10542</th>\n",
       "      <td>1/18/2011 10:17</td>\n",
       "      <td>12346.0</td>\n",
       "      <td>23166</td>\n",
       "      <td>1.04</td>\n",
       "      <td>-74215</td>\n",
       "    </tr>\n",
       "  </tbody>\n",
       "</table>\n",
       "</div>"
      ],
      "text/plain": [
       "           InvoiceDate  CustomerID StockCode  UnitPrice  Quantity\n",
       "10537  1/18/2011 10:01     12346.0     23166       1.04     74215\n",
       "10542  1/18/2011 10:17     12346.0     23166       1.04    -74215"
      ]
     },
     "execution_count": 7,
     "metadata": {},
     "output_type": "execute_result"
    }
   ],
   "source": [
    "\n",
    "#row data of maximum and minimum data\n",
    "df2.loc[[df2['Quantity'].idxmax(),df2['Quantity'].idxmin()]]"
   ]
  },
  {
   "cell_type": "markdown",
   "metadata": {},
   "source": [
    "<b>Note that the Minimum quantity and Maximum quantity have the same absolute values.</b>"
   ]
  },
  {
   "cell_type": "code",
   "execution_count": 8,
   "metadata": {},
   "outputs": [
    {
     "data": {
      "text/html": [
       "<div>\n",
       "<style scoped>\n",
       "    .dataframe tbody tr th:only-of-type {\n",
       "        vertical-align: middle;\n",
       "    }\n",
       "\n",
       "    .dataframe tbody tr th {\n",
       "        vertical-align: top;\n",
       "    }\n",
       "\n",
       "    .dataframe thead th {\n",
       "        text-align: right;\n",
       "    }\n",
       "</style>\n",
       "<table border=\"1\" class=\"dataframe\">\n",
       "  <thead>\n",
       "    <tr style=\"text-align: right;\">\n",
       "      <th></th>\n",
       "      <th>CustomerID</th>\n",
       "      <th>UnitPrice</th>\n",
       "      <th>Quantity</th>\n",
       "    </tr>\n",
       "  </thead>\n",
       "  <tbody>\n",
       "    <tr>\n",
       "      <th>count</th>\n",
       "      <td>214535.000000</td>\n",
       "      <td>214535.000000</td>\n",
       "      <td>214535.000000</td>\n",
       "    </tr>\n",
       "    <tr>\n",
       "      <th>mean</th>\n",
       "      <td>15528.143865</td>\n",
       "      <td>3.048407</td>\n",
       "      <td>10.561741</td>\n",
       "    </tr>\n",
       "    <tr>\n",
       "      <th>std</th>\n",
       "      <td>1592.742929</td>\n",
       "      <td>14.165166</td>\n",
       "      <td>50.550843</td>\n",
       "    </tr>\n",
       "    <tr>\n",
       "      <th>min</th>\n",
       "      <td>12747.000000</td>\n",
       "      <td>0.000000</td>\n",
       "      <td>-3114.000000</td>\n",
       "    </tr>\n",
       "    <tr>\n",
       "      <th>25%</th>\n",
       "      <td>14159.000000</td>\n",
       "      <td>1.250000</td>\n",
       "      <td>2.000000</td>\n",
       "    </tr>\n",
       "    <tr>\n",
       "      <th>50%</th>\n",
       "      <td>15493.000000</td>\n",
       "      <td>1.950000</td>\n",
       "      <td>4.000000</td>\n",
       "    </tr>\n",
       "    <tr>\n",
       "      <th>75%</th>\n",
       "      <td>16923.000000</td>\n",
       "      <td>3.750000</td>\n",
       "      <td>12.000000</td>\n",
       "    </tr>\n",
       "    <tr>\n",
       "      <th>max</th>\n",
       "      <td>18287.000000</td>\n",
       "      <td>3155.950000</td>\n",
       "      <td>12540.000000</td>\n",
       "    </tr>\n",
       "  </tbody>\n",
       "</table>\n",
       "</div>"
      ],
      "text/plain": [
       "          CustomerID      UnitPrice       Quantity\n",
       "count  214535.000000  214535.000000  214535.000000\n",
       "mean    15528.143865       3.048407      10.561741\n",
       "std      1592.742929      14.165166      50.550843\n",
       "min     12747.000000       0.000000   -3114.000000\n",
       "25%     14159.000000       1.250000       2.000000\n",
       "50%     15493.000000       1.950000       4.000000\n",
       "75%     16923.000000       3.750000      12.000000\n",
       "max     18287.000000    3155.950000   12540.000000"
      ]
     },
     "execution_count": 8,
     "metadata": {},
     "output_type": "execute_result"
    }
   ],
   "source": [
    "#remove containing row minimum and maximum quantity as it is basically a duplicate\n",
    "df2.drop(index=[df2['Quantity'].idxmax(), df2['Quantity'].idxmin()], inplace=True)\n",
    "\n",
    "#chack minimum and maximum quantity \n",
    "df2.describe()"
   ]
  },
  {
   "cell_type": "markdown",
   "metadata": {},
   "source": [
    "<b> Note that the Minimum quantity and Maximum quantity do not have the same absolute values.</b>\n",
    "\n",
    "The next step is to change the date column and add the total sales column"
   ]
  },
  {
   "cell_type": "code",
   "execution_count": 9,
   "metadata": {},
   "outputs": [
    {
     "data": {
      "text/html": [
       "<div>\n",
       "<style scoped>\n",
       "    .dataframe tbody tr th:only-of-type {\n",
       "        vertical-align: middle;\n",
       "    }\n",
       "\n",
       "    .dataframe tbody tr th {\n",
       "        vertical-align: top;\n",
       "    }\n",
       "\n",
       "    .dataframe thead th {\n",
       "        text-align: right;\n",
       "    }\n",
       "</style>\n",
       "<table border=\"1\" class=\"dataframe\">\n",
       "  <thead>\n",
       "    <tr style=\"text-align: right;\">\n",
       "      <th></th>\n",
       "      <th>InvoiceDate</th>\n",
       "      <th>CustomerID</th>\n",
       "      <th>StockCode</th>\n",
       "      <th>UnitPrice</th>\n",
       "      <th>Quantity</th>\n",
       "      <th>Totalsum</th>\n",
       "    </tr>\n",
       "  </thead>\n",
       "  <tbody>\n",
       "    <tr>\n",
       "      <th>2</th>\n",
       "      <td>2011-01-10</td>\n",
       "      <td>13004.0</td>\n",
       "      <td>22343</td>\n",
       "      <td>0.21</td>\n",
       "      <td>24</td>\n",
       "      <td>5.04</td>\n",
       "    </tr>\n",
       "    <tr>\n",
       "      <th>3</th>\n",
       "      <td>2011-01-10</td>\n",
       "      <td>13004.0</td>\n",
       "      <td>22344</td>\n",
       "      <td>0.21</td>\n",
       "      <td>24</td>\n",
       "      <td>5.04</td>\n",
       "    </tr>\n",
       "    <tr>\n",
       "      <th>4</th>\n",
       "      <td>2011-01-10</td>\n",
       "      <td>13004.0</td>\n",
       "      <td>47504H</td>\n",
       "      <td>0.85</td>\n",
       "      <td>24</td>\n",
       "      <td>20.40</td>\n",
       "    </tr>\n",
       "    <tr>\n",
       "      <th>5</th>\n",
       "      <td>2011-01-10</td>\n",
       "      <td>13004.0</td>\n",
       "      <td>84509G</td>\n",
       "      <td>1.25</td>\n",
       "      <td>12</td>\n",
       "      <td>15.00</td>\n",
       "    </tr>\n",
       "    <tr>\n",
       "      <th>6</th>\n",
       "      <td>2011-01-10</td>\n",
       "      <td>13004.0</td>\n",
       "      <td>22720</td>\n",
       "      <td>4.95</td>\n",
       "      <td>3</td>\n",
       "      <td>14.85</td>\n",
       "    </tr>\n",
       "  </tbody>\n",
       "</table>\n",
       "</div>"
      ],
      "text/plain": [
       "  InvoiceDate  CustomerID StockCode  UnitPrice  Quantity  Totalsum\n",
       "2  2011-01-10     13004.0     22343       0.21        24      5.04\n",
       "3  2011-01-10     13004.0     22344       0.21        24      5.04\n",
       "4  2011-01-10     13004.0    47504H       0.85        24     20.40\n",
       "5  2011-01-10     13004.0    84509G       1.25        12     15.00\n",
       "6  2011-01-10     13004.0     22720       4.95         3     14.85"
      ]
     },
     "execution_count": 9,
     "metadata": {},
     "output_type": "execute_result"
    }
   ],
   "source": [
    "# Convert InvoiceDate from object to datetime format\n",
    "df2['InvoiceDate'] = pd.to_datetime(df2['InvoiceDate'])\n",
    "\n",
    "#remove minutes and seconds from date\n",
    "df2['InvoiceDate'] = df2.InvoiceDate.dt.date\n",
    "                        \n",
    "#creating a total sales column\n",
    "df2[\"Totalsum\"] = df2['Quantity'] * df2['UnitPrice']\n",
    "\n",
    "df2.head(5)"
   ]
  },
  {
   "cell_type": "code",
   "execution_count": 10,
   "metadata": {},
   "outputs": [
    {
     "name": "stdout",
     "output_type": "stream",
     "text": [
      "214,539 rows; 8 columns\n",
      "0 transactions don't have a customer id\n",
      "Transactions timeframe from 1/10/2011 10:32 to 5/20/2011 14:06\n"
     ]
    }
   ],
   "source": [
    "# information about the data set\n",
    "print('{:,} rows; {:,} columns'\n",
    "      .format(df.shape[0], df.shape[1]))\n",
    "print('{:,} transactions don\\'t have a customer id'\n",
    "      .format(df[df.CustomerID.isnull()].shape[0]))\n",
    "print('Transactions timeframe from {} to {}'.format(df['InvoiceDate'].min(),\n",
    "                                    df['InvoiceDate'].max()))"
   ]
  },
  {
   "cell_type": "markdown",
   "metadata": {},
   "source": [
    "# RFM model\n",
    "\n",
    "The RFM model describes current customers historical purchase behavior using 3 feature:\n",
    "\n",
    "* When did the customer make their last purchase?\n",
    "* How often does the customer make a purchase?\n",
    "*  How much money does the customer spend?\n",
    "\n",
    "The general assumption with the RFM model is that Customers that purchase in shorter time intervals in\n",
    "greater volumes at higher prices are more like to respond positively to future engagement and product offers.  \n",
    "\n",
    "\n",
    "The customer records are grouped by recency of their purchase, the frequency by their quantity, and the monetary value of the purchases. "
   ]
  },
  {
   "cell_type": "code",
   "execution_count": 11,
   "metadata": {},
   "outputs": [
    {
     "data": {
      "text/html": [
       "<div>\n",
       "<style scoped>\n",
       "    .dataframe tbody tr th:only-of-type {\n",
       "        vertical-align: middle;\n",
       "    }\n",
       "\n",
       "    .dataframe tbody tr th {\n",
       "        vertical-align: top;\n",
       "    }\n",
       "\n",
       "    .dataframe thead th {\n",
       "        text-align: right;\n",
       "    }\n",
       "</style>\n",
       "<table border=\"1\" class=\"dataframe\">\n",
       "  <thead>\n",
       "    <tr style=\"text-align: right;\">\n",
       "      <th></th>\n",
       "      <th>Recency</th>\n",
       "      <th>Frequency</th>\n",
       "      <th>Monetary</th>\n",
       "    </tr>\n",
       "    <tr>\n",
       "      <th>CustomerID</th>\n",
       "      <th></th>\n",
       "      <th></th>\n",
       "      <th></th>\n",
       "    </tr>\n",
       "  </thead>\n",
       "  <tbody>\n",
       "    <tr>\n",
       "      <th>12747.0</th>\n",
       "      <td>3</td>\n",
       "      <td>50.0</td>\n",
       "      <td>2040.43</td>\n",
       "    </tr>\n",
       "    <tr>\n",
       "      <th>12748.0</th>\n",
       "      <td>1</td>\n",
       "      <td>2729.0</td>\n",
       "      <td>15727.57</td>\n",
       "    </tr>\n",
       "    <tr>\n",
       "      <th>12749.0</th>\n",
       "      <td>4</td>\n",
       "      <td>114.0</td>\n",
       "      <td>2194.75</td>\n",
       "    </tr>\n",
       "    <tr>\n",
       "      <th>12820.0</th>\n",
       "      <td>4</td>\n",
       "      <td>45.0</td>\n",
       "      <td>724.57</td>\n",
       "    </tr>\n",
       "    <tr>\n",
       "      <th>12823.0</th>\n",
       "      <td>255</td>\n",
       "      <td>3.0</td>\n",
       "      <td>994.50</td>\n",
       "    </tr>\n",
       "  </tbody>\n",
       "</table>\n",
       "</div>"
      ],
      "text/plain": [
       "            Recency  Frequency  Monetary\n",
       "CustomerID                              \n",
       "12747.0           3       50.0   2040.43\n",
       "12748.0           1     2729.0  15727.57\n",
       "12749.0           4      114.0   2194.75\n",
       "12820.0           4       45.0    724.57\n",
       "12823.0         255        3.0    994.50"
      ]
     },
     "execution_count": 11,
     "metadata": {},
     "output_type": "execute_result"
    }
   ],
   "source": [
    "# create a table that aggregates the transactions by customer id to \n",
    "# obtain recency score, frequency of purchase and monetary value\n",
    "\n",
    "\n",
    "# set current date as most recent date plus one day\n",
    "df2['snapshot'] = df2['InvoiceDate'] + timedelta(days=1)  \n",
    "\n",
    "#group customers by their most recent purchase\n",
    "snapshot_date = df2['InvoiceDate'].max() + timedelta(days=1)  \n",
    "\n",
    "#creat recency table by comparing most recent transaction to snapshot date by customer ID\n",
    "rec_df = snapshot_date-df2.groupby(\"CustomerID\").agg({\"InvoiceDate\":max}) \n",
    "\n",
    "#renaming column names\n",
    "rec_df.rename(columns={\"InvoiceDate\": \"Recency\"}, inplace=True)#rename column\n",
    "rec_df=rec_df[\"Recency\"].apply(lambda x: x.days) #extracting number of days only\n",
    "\n",
    "#creating frequency and monetary table by grouping number of purchases and total money spent by customer ID\n",
    "fmTable = df2.groupby('CustomerID').agg({'CustomerID': lambda x: len(x),               # Frequency\n",
    "                                        'Totalsum': lambda x: x.sum()})          # Monetary Value\n",
    "#renaming column names\n",
    "fmTable.rename(columns={\n",
    "                         'CustomerID': 'Frequency', \n",
    "                         'Totalsum': 'Monetary'}, inplace=True)\n",
    "\n",
    "#combining the fm table and the recency table\n",
    "\n",
    "rfm_df = pd.concat([rec_df,fmTable],axis=1)\n",
    "\n",
    "rfm_df.head(5)"
   ]
  },
  {
   "cell_type": "markdown",
   "metadata": {},
   "source": [
    "# Cluster Analysis \n",
    "Clustering is the process of dividing the entire data into groups (also known as clusters) based on the patterns in the data.\n",
    "\n",
    "The k-means clustering technique is an algorithm that tries to minimize the distance of the points in a cluster with their centroid. There are two steps in cluster analysis:\n",
    "\n",
    "1. Finding the optimal number of clusters : the number of cluster value where this decrease in inertia value becomes constant can be chosen as the right number of cluster for our data.\n",
    "\n",
    "2.Fit to kmeans model\n",
    "\n",
    "\n",
    " \n",
    "Looking at the rfm data table above,  there is a lot of variation in the magnitude of the data. Since K-Means is a distance-based algorithm, this difference of magnitude can create a problem,therefore all the variables are standardized to the same magnitude using the RFM scores:"
   ]
  },
  {
   "cell_type": "code",
   "execution_count": 12,
   "metadata": {},
   "outputs": [
    {
     "data": {
      "text/html": [
       "<div>\n",
       "<style scoped>\n",
       "    .dataframe tbody tr th:only-of-type {\n",
       "        vertical-align: middle;\n",
       "    }\n",
       "\n",
       "    .dataframe tbody tr th {\n",
       "        vertical-align: top;\n",
       "    }\n",
       "\n",
       "    .dataframe thead th {\n",
       "        text-align: right;\n",
       "    }\n",
       "</style>\n",
       "<table border=\"1\" class=\"dataframe\">\n",
       "  <thead>\n",
       "    <tr style=\"text-align: right;\">\n",
       "      <th></th>\n",
       "      <th>R_score</th>\n",
       "      <th>F_score</th>\n",
       "      <th>M_score</th>\n",
       "    </tr>\n",
       "    <tr>\n",
       "      <th>CustomerID</th>\n",
       "      <th></th>\n",
       "      <th></th>\n",
       "      <th></th>\n",
       "    </tr>\n",
       "  </thead>\n",
       "  <tbody>\n",
       "    <tr>\n",
       "      <th>12747.0</th>\n",
       "      <td>4</td>\n",
       "      <td>3</td>\n",
       "      <td>4</td>\n",
       "    </tr>\n",
       "    <tr>\n",
       "      <th>12748.0</th>\n",
       "      <td>4</td>\n",
       "      <td>4</td>\n",
       "      <td>4</td>\n",
       "    </tr>\n",
       "    <tr>\n",
       "      <th>12749.0</th>\n",
       "      <td>4</td>\n",
       "      <td>4</td>\n",
       "      <td>4</td>\n",
       "    </tr>\n",
       "    <tr>\n",
       "      <th>12820.0</th>\n",
       "      <td>4</td>\n",
       "      <td>3</td>\n",
       "      <td>3</td>\n",
       "    </tr>\n",
       "    <tr>\n",
       "      <th>12823.0</th>\n",
       "      <td>1</td>\n",
       "      <td>1</td>\n",
       "      <td>3</td>\n",
       "    </tr>\n",
       "  </tbody>\n",
       "</table>\n",
       "</div>"
      ],
      "text/plain": [
       "           R_score F_score M_score\n",
       "CustomerID                        \n",
       "12747.0          4       3       4\n",
       "12748.0          4       4       4\n",
       "12749.0          4       4       4\n",
       "12820.0          4       3       3\n",
       "12823.0          1       1       3"
      ]
     },
     "execution_count": 12,
     "metadata": {},
     "output_type": "execute_result"
    }
   ],
   "source": [
    "# standardizing the data\n",
    "\n",
    "# --Calculate R and F groups--\n",
    "rfm_df1= rfm_df.copy()\n",
    "\n",
    "# Create labels for Recency and Frequency and MonetaryValue\n",
    "r_labels = range(4, 0, -1) #[4,3,2,1] \n",
    "f_labels = range(1, 5)   #[1,2,3,4]\n",
    "m_labels = range(1, 5)\n",
    "\n",
    "# Assign these labels to 4 equal percentile groups \n",
    "r_groups = pd.qcut(rfm_df1['Recency'], q=4, labels=r_labels)\n",
    "# Assign these labels to1111 4 equal percentile groups \n",
    "f_groups = pd.qcut(rfm_df1['Frequency'], q=4, labels=f_labels)\n",
    "\n",
    "# Assign these labels to three equal percentile groups \n",
    "m_groups = pd.qcut(rfm_df1['Monetary'], q=4, labels=m_labels)\n",
    "\n",
    "\n",
    "\n",
    "# Create new columns R_score, M_score and F_score  \n",
    "rfm_df1 = rfm_df1.assign(R_score = r_groups.values, F_score = f_groups.values, M_score = m_groups.values)\n",
    "rfm_df1 = rfm_df1[['R_score','F_score','M_score']]\n",
    "rfm_df1.head()"
   ]
  },
  {
   "cell_type": "code",
   "execution_count": 60,
   "metadata": {},
   "outputs": [
    {
     "data": {
      "image/png": "[encoded data removed]",
      "text/plain": [
       "<Figure size 864x432 with 1 Axes>"
      ]
     },
     "metadata": {
      "needs_background": "light"
     },
     "output_type": "display_data"
    }
   ],
   "source": [
    "\n",
    "Nc = range(1, 20)\n",
    "kmeans = [KMeans(n_clusters=i) for i in Nc]\n",
    "score = [kmeans[i].fit(rfm_df).inertia_ for i in range(len(kmeans))]\n",
    "\n",
    "\n",
    "plt.figure(figsize=(12,6))\n",
    "plt.plot(Nc,score, marker='o')\n",
    "plt.xlabel('Number of Clusters')\n",
    "plt.ylabel('Inertia')\n",
    "plt.title('Elbow Curve')\n",
    "plt.show()"
   ]
  },
  {
   "cell_type": "markdown",
   "metadata": {},
   "source": [
    "<b>Looking at the above elbow curve, we can choose any number of clusters between 2.5 to 5. The number of clusters is set as 4 and fit the model</b>"
   ]
  },
  {
   "cell_type": "code",
   "execution_count": 65,
   "metadata": {},
   "outputs": [
    {
     "data": {
      "text/html": [
       "<div>\n",
       "<style scoped>\n",
       "    .dataframe tbody tr th:only-of-type {\n",
       "        vertical-align: middle;\n",
       "    }\n",
       "\n",
       "    .dataframe tbody tr th {\n",
       "        vertical-align: top;\n",
       "    }\n",
       "\n",
       "    .dataframe thead th {\n",
       "        text-align: right;\n",
       "    }\n",
       "</style>\n",
       "<table border=\"1\" class=\"dataframe\">\n",
       "  <thead>\n",
       "    <tr style=\"text-align: right;\">\n",
       "      <th></th>\n",
       "      <th>Recency</th>\n",
       "      <th>Frequency</th>\n",
       "      <th>Monetary</th>\n",
       "      <th>cluster</th>\n",
       "    </tr>\n",
       "    <tr>\n",
       "      <th>CustomerID</th>\n",
       "      <th></th>\n",
       "      <th></th>\n",
       "      <th></th>\n",
       "      <th></th>\n",
       "    </tr>\n",
       "  </thead>\n",
       "  <tbody>\n",
       "    <tr>\n",
       "      <th>12747.0</th>\n",
       "      <td>3</td>\n",
       "      <td>50.0</td>\n",
       "      <td>2040.43</td>\n",
       "      <td>0</td>\n",
       "    </tr>\n",
       "    <tr>\n",
       "      <th>12748.0</th>\n",
       "      <td>1</td>\n",
       "      <td>2729.0</td>\n",
       "      <td>15727.57</td>\n",
       "      <td>1</td>\n",
       "    </tr>\n",
       "    <tr>\n",
       "      <th>12749.0</th>\n",
       "      <td>4</td>\n",
       "      <td>114.0</td>\n",
       "      <td>2194.75</td>\n",
       "      <td>0</td>\n",
       "    </tr>\n",
       "    <tr>\n",
       "      <th>12820.0</th>\n",
       "      <td>4</td>\n",
       "      <td>45.0</td>\n",
       "      <td>724.57</td>\n",
       "      <td>0</td>\n",
       "    </tr>\n",
       "    <tr>\n",
       "      <th>12823.0</th>\n",
       "      <td>255</td>\n",
       "      <td>3.0</td>\n",
       "      <td>994.50</td>\n",
       "      <td>0</td>\n",
       "    </tr>\n",
       "    <tr>\n",
       "      <th>12824.0</th>\n",
       "      <td>60</td>\n",
       "      <td>25.0</td>\n",
       "      <td>397.12</td>\n",
       "      <td>0</td>\n",
       "    </tr>\n",
       "    <tr>\n",
       "      <th>12826.0</th>\n",
       "      <td>3</td>\n",
       "      <td>62.0</td>\n",
       "      <td>964.20</td>\n",
       "      <td>0</td>\n",
       "    </tr>\n",
       "    <tr>\n",
       "      <th>12827.0</th>\n",
       "      <td>6</td>\n",
       "      <td>25.0</td>\n",
       "      <td>430.15</td>\n",
       "      <td>0</td>\n",
       "    </tr>\n",
       "    <tr>\n",
       "      <th>12828.0</th>\n",
       "      <td>3</td>\n",
       "      <td>31.0</td>\n",
       "      <td>603.20</td>\n",
       "      <td>0</td>\n",
       "    </tr>\n",
       "    <tr>\n",
       "      <th>12829.0</th>\n",
       "      <td>323</td>\n",
       "      <td>7.0</td>\n",
       "      <td>167.30</td>\n",
       "      <td>0</td>\n",
       "    </tr>\n",
       "    <tr>\n",
       "      <th>12830.0</th>\n",
       "      <td>38</td>\n",
       "      <td>2.0</td>\n",
       "      <td>400.32</td>\n",
       "      <td>0</td>\n",
       "    </tr>\n",
       "    <tr>\n",
       "      <th>12831.0</th>\n",
       "      <td>263</td>\n",
       "      <td>9.0</td>\n",
       "      <td>215.05</td>\n",
       "      <td>0</td>\n",
       "    </tr>\n",
       "    <tr>\n",
       "      <th>12832.0</th>\n",
       "      <td>33</td>\n",
       "      <td>9.0</td>\n",
       "      <td>115.23</td>\n",
       "      <td>0</td>\n",
       "    </tr>\n",
       "    <tr>\n",
       "      <th>12834.0</th>\n",
       "      <td>283</td>\n",
       "      <td>18.0</td>\n",
       "      <td>312.38</td>\n",
       "      <td>0</td>\n",
       "    </tr>\n",
       "    <tr>\n",
       "      <th>12836.0</th>\n",
       "      <td>60</td>\n",
       "      <td>89.0</td>\n",
       "      <td>1347.02</td>\n",
       "      <td>0</td>\n",
       "    </tr>\n",
       "  </tbody>\n",
       "</table>\n",
       "</div>"
      ],
      "text/plain": [
       "            Recency  Frequency  Monetary  cluster\n",
       "CustomerID                                       \n",
       "12747.0           3       50.0   2040.43        0\n",
       "12748.0           1     2729.0  15727.57        1\n",
       "12749.0           4      114.0   2194.75        0\n",
       "12820.0           4       45.0    724.57        0\n",
       "12823.0         255        3.0    994.50        0\n",
       "12824.0          60       25.0    397.12        0\n",
       "12826.0           3       62.0    964.20        0\n",
       "12827.0           6       25.0    430.15        0\n",
       "12828.0           3       31.0    603.20        0\n",
       "12829.0         323        7.0    167.30        0\n",
       "12830.0          38        2.0    400.32        0\n",
       "12831.0         263        9.0    215.05        0\n",
       "12832.0          33        9.0    115.23        0\n",
       "12834.0         283       18.0    312.38        0\n",
       "12836.0          60       89.0   1347.02        0"
      ]
     },
     "execution_count": 65,
     "metadata": {},
     "output_type": "execute_result"
    }
   ],
   "source": [
    "#fitting data in Kmeans theorem.\n",
    "kmeans = KMeans(n_clusters=4, random_state=0).fit(rfm_df)\n",
    "\n",
    "# creates a new column called cluster which has cluster number for each row.\n",
    "rfm_df['cluster'] = kmeans.labels_\n",
    "rfm_df.head(15)"
   ]
  },
  {
   "cell_type": "code",
   "execution_count": 64,
   "metadata": {},
   "outputs": [
    {
     "data": {
      "text/plain": [
       "0    3210\n",
       "1      54\n",
       "3       9\n",
       "2       1\n",
       "Name: cluster, dtype: int64"
      ]
     },
     "execution_count": 64,
     "metadata": {},
     "output_type": "execute_result"
    }
   ],
   "source": [
    "rfm_df.cluster.value_counts()"
   ]
  },
  {
   "cell_type": "code",
   "execution_count": 66,
   "metadata": {},
   "outputs": [
    {
     "data": {
      "text/plain": [
       "<matplotlib.axes._subplots.AxesSubplot at 0x1a228a9110>"
      ]
     },
     "execution_count": 66,
     "metadata": {},
     "output_type": "execute_result"
    },
    {
     "data": {
      "image/png": "[encoded data removed]",
      "text/plain": [
       "<Figure size 432x288 with 1 Axes>"
      ]
     },
     "metadata": {
      "needs_background": "light"
     },
     "output_type": "display_data"
    }
   ],
   "source": [
    "\n",
    "sns.boxplot(rfm_df.cluster,rfm_df.Recency)"
   ]
  },
  {
   "cell_type": "code",
   "execution_count": 67,
   "metadata": {},
   "outputs": [
    {
     "data": {
      "text/plain": [
       "<matplotlib.axes._subplots.AxesSubplot at 0x1a22d1e910>"
      ]
     },
     "execution_count": 67,
     "metadata": {},
     "output_type": "execute_result"
    },
    {
     "data": {
      "image/png": "[encoded data removed]",
      "text/plain": [
       "<Figure size 432x288 with 1 Axes>"
      ]
     },
     "metadata": {
      "needs_background": "light"
     },
     "output_type": "display_data"
    }
   ],
   "source": [
    "sns.boxplot(rfm_df.cluster,rfm_df.Frequency)"
   ]
  },
  {
   "cell_type": "code",
   "execution_count": 68,
   "metadata": {
    "scrolled": true
   },
   "outputs": [
    {
     "data": {
      "text/plain": [
       "<matplotlib.axes._subplots.AxesSubplot at 0x1a22932910>"
      ]
     },
     "execution_count": 68,
     "metadata": {},
     "output_type": "execute_result"
    },
    {
     "data": {
      "image/png": "[encoded data removed]",
      "text/plain": [
       "<Figure size 432x288 with 1 Axes>"
      ]
     },
     "metadata": {
      "needs_background": "light"
     },
     "output_type": "display_data"
    }
   ],
   "source": [
    "sns.boxplot(rfm_df.cluster,rfm_df.Monetary)"
   ]
  },
  {
   "cell_type": "markdown",
   "metadata": {},
   "source": [
    "# Final Conclusion\n",
    "\n",
    "On the basis of the RFM model, customers of the business have been segmented into various meaningful groups. Using the clustering algorithm, and the main characteristics of the consumers in each segment have been clearly identified."
   ]
  },
  {
   "cell_type": "markdown",
   "metadata": {},
   "source": [
    "# Reference \n",
    "\n",
    "1. https://www.moengage.com/blog/rfm-analysis-using-predictive-segments/\n",
    "2. https://towardsdatascience.com/recency-frequency-monetary-model-with-python-and-how-sephora-uses-it-to-optimize-their-google-d6a0707c5f17\n",
    "3. https://earlconf.com/2017/downloads/london/presentations/EARL2017_-_London_-_Alexander_Campbell_-_Customer_segmentation.pdf\n",
    "4. https://www.analyticsvidhya.com/blog/2019/08/comprehensive-guide-k-means-clustering/#k-means-clustering-python-code\n",
    "5. https://www.kaggle.com/yugagrawal95/rfm-analysis"
   ]
  },
  {
   "cell_type": "code",
   "execution_count": null,
   "metadata": {},
   "outputs": [],
   "source": []
  }
 ],
 "metadata": {
  "kernelspec": {
   "display_name": "Python 3",
   "language": "python",
   "name": "python3"
  },
  "language_info": {
   "codemirror_mode": {
    "name": "ipython",
    "version": 3
   },
   "file_extension": ".py",
   "mimetype": "text/x-python",
   "name": "python",
   "nbconvert_exporter": "python",
   "pygments_lexer": "ipython3",
   "version": "3.7.7"
  }
 },
 "nbformat": 4,
 "nbformat_minor": 4
}
